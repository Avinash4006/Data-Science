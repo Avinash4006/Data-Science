{
 "cells": [
  {
   "cell_type": "code",
   "execution_count": 1,
   "id": "e34b2600",
   "metadata": {},
   "outputs": [
    {
     "data": {
      "text/plain": [
       "array('ankdodkdsjdiwjdid', dtype='<U17')"
      ]
     },
     "execution_count": 1,
     "metadata": {},
     "output_type": "execute_result"
    }
   ],
   "source": [
    "import numpy as np\n",
    "n='ankdodkd'\n",
    "m='sjdiwjdid'\n",
    "np.char.add(n,m)"
   ]
  },
  {
   "cell_type": "code",
   "execution_count": null,
   "id": "da512155",
   "metadata": {},
   "outputs": [],
   "source": []
  }
 ],
 "metadata": {
  "kernelspec": {
   "display_name": "Python 3 (ipykernel)",
   "language": "python",
   "name": "python3"
  },
  "language_info": {
   "codemirror_mode": {
    "name": "ipython",
    "version": 3
   },
   "file_extension": ".py",
   "mimetype": "text/x-python",
   "name": "python",
   "nbconvert_exporter": "python",
   "pygments_lexer": "ipython3",
   "version": "3.9.13"
  }
 },
 "nbformat": 4,
 "nbformat_minor": 5
}
